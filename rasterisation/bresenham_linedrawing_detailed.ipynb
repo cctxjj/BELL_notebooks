{
 "cells": [
  {
   "metadata": {},
   "cell_type": "markdown",
   "source": [
    "# Bresenham Algorithmus\n",
    "Der Bresenham Algorithmus ist ein grundlegendes Verfahren mit dem Ziel, eine gerade Linie zwischen zwei gegebenen Punkten zu zeichnen bzw. die hierfür zu füllenden Pixel zu errechnen. Im Folgenden soll die theoretische Grundlage praktisch umgesetzt werden. Hierfür wird zunächst das Verfahren für den ersten Oktanten dargestellt, anschließend auf den zweiten ausgeweitet und anschließend für jeglichen Linientypen geltend verallgemeinert."
   ],
   "id": "882b13efc6f375e0"
  },
  {
   "metadata": {},
   "cell_type": "markdown",
   "source": [
    "## Oktant 1\n",
    "### d_y <= d_x | 0 <= m <= 1"
   ],
   "id": "51aea8c6d639a1f4"
  },
  {
   "metadata": {
    "ExecuteTime": {
     "end_time": "2025-05-19T15:55:02.975459Z",
     "start_time": "2025-05-19T15:54:59.714305Z"
    }
   },
   "cell_type": "code",
   "source": "! pip install ipycanvas",
   "id": "f1469b01213257b9",
   "outputs": [
    {
     "name": "stdout",
     "output_type": "stream",
     "text": [
      "Requirement already satisfied: ipycanvas in c:\\users\\sebastian\\pycharmprojects\\bell_notebooks\\.venv\\lib\\site-packages (0.13.3)\n",
      "Requirement already satisfied: ipywidgets<9,>=7.6.0 in c:\\users\\sebastian\\pycharmprojects\\bell_notebooks\\.venv\\lib\\site-packages (from ipycanvas) (8.1.6)\n",
      "Requirement already satisfied: numpy in c:\\users\\sebastian\\pycharmprojects\\bell_notebooks\\.venv\\lib\\site-packages (from ipycanvas) (2.2.5)\n",
      "Requirement already satisfied: pillow>=6.0 in c:\\users\\sebastian\\pycharmprojects\\bell_notebooks\\.venv\\lib\\site-packages (from ipycanvas) (11.2.1)\n",
      "Requirement already satisfied: comm>=0.1.3 in c:\\users\\sebastian\\pycharmprojects\\bell_notebooks\\.venv\\lib\\site-packages (from ipywidgets<9,>=7.6.0->ipycanvas) (0.2.2)\n",
      "Requirement already satisfied: ipython>=6.1.0 in c:\\users\\sebastian\\pycharmprojects\\bell_notebooks\\.venv\\lib\\site-packages (from ipywidgets<9,>=7.6.0->ipycanvas) (9.2.0)\n",
      "Requirement already satisfied: traitlets>=4.3.1 in c:\\users\\sebastian\\pycharmprojects\\bell_notebooks\\.venv\\lib\\site-packages (from ipywidgets<9,>=7.6.0->ipycanvas) (5.14.3)\n",
      "Requirement already satisfied: widgetsnbextension~=4.0.14 in c:\\users\\sebastian\\pycharmprojects\\bell_notebooks\\.venv\\lib\\site-packages (from ipywidgets<9,>=7.6.0->ipycanvas) (4.0.14)\n",
      "Requirement already satisfied: jupyterlab_widgets~=3.0.14 in c:\\users\\sebastian\\pycharmprojects\\bell_notebooks\\.venv\\lib\\site-packages (from ipywidgets<9,>=7.6.0->ipycanvas) (3.0.14)\n",
      "Requirement already satisfied: colorama in c:\\users\\sebastian\\pycharmprojects\\bell_notebooks\\.venv\\lib\\site-packages (from ipython>=6.1.0->ipywidgets<9,>=7.6.0->ipycanvas) (0.4.6)\n",
      "Requirement already satisfied: decorator in c:\\users\\sebastian\\pycharmprojects\\bell_notebooks\\.venv\\lib\\site-packages (from ipython>=6.1.0->ipywidgets<9,>=7.6.0->ipycanvas) (5.2.1)\n",
      "Requirement already satisfied: ipython-pygments-lexers in c:\\users\\sebastian\\pycharmprojects\\bell_notebooks\\.venv\\lib\\site-packages (from ipython>=6.1.0->ipywidgets<9,>=7.6.0->ipycanvas) (1.1.1)\n",
      "Requirement already satisfied: jedi>=0.16 in c:\\users\\sebastian\\pycharmprojects\\bell_notebooks\\.venv\\lib\\site-packages (from ipython>=6.1.0->ipywidgets<9,>=7.6.0->ipycanvas) (0.19.2)\n",
      "Requirement already satisfied: matplotlib-inline in c:\\users\\sebastian\\pycharmprojects\\bell_notebooks\\.venv\\lib\\site-packages (from ipython>=6.1.0->ipywidgets<9,>=7.6.0->ipycanvas) (0.1.7)\n",
      "Requirement already satisfied: prompt_toolkit<3.1.0,>=3.0.41 in c:\\users\\sebastian\\pycharmprojects\\bell_notebooks\\.venv\\lib\\site-packages (from ipython>=6.1.0->ipywidgets<9,>=7.6.0->ipycanvas) (3.0.51)\n",
      "Requirement already satisfied: pygments>=2.4.0 in c:\\users\\sebastian\\pycharmprojects\\bell_notebooks\\.venv\\lib\\site-packages (from ipython>=6.1.0->ipywidgets<9,>=7.6.0->ipycanvas) (2.19.1)\n",
      "Requirement already satisfied: stack_data in c:\\users\\sebastian\\pycharmprojects\\bell_notebooks\\.venv\\lib\\site-packages (from ipython>=6.1.0->ipywidgets<9,>=7.6.0->ipycanvas) (0.6.3)\n",
      "Requirement already satisfied: wcwidth in c:\\users\\sebastian\\pycharmprojects\\bell_notebooks\\.venv\\lib\\site-packages (from prompt_toolkit<3.1.0,>=3.0.41->ipython>=6.1.0->ipywidgets<9,>=7.6.0->ipycanvas) (0.2.13)\n",
      "Requirement already satisfied: parso<0.9.0,>=0.8.4 in c:\\users\\sebastian\\pycharmprojects\\bell_notebooks\\.venv\\lib\\site-packages (from jedi>=0.16->ipython>=6.1.0->ipywidgets<9,>=7.6.0->ipycanvas) (0.8.4)\n",
      "Requirement already satisfied: executing>=1.2.0 in c:\\users\\sebastian\\pycharmprojects\\bell_notebooks\\.venv\\lib\\site-packages (from stack_data->ipython>=6.1.0->ipywidgets<9,>=7.6.0->ipycanvas) (2.2.0)\n",
      "Requirement already satisfied: asttokens>=2.1.0 in c:\\users\\sebastian\\pycharmprojects\\bell_notebooks\\.venv\\lib\\site-packages (from stack_data->ipython>=6.1.0->ipywidgets<9,>=7.6.0->ipycanvas) (3.0.0)\n",
      "Requirement already satisfied: pure-eval in c:\\users\\sebastian\\pycharmprojects\\bell_notebooks\\.venv\\lib\\site-packages (from stack_data->ipython>=6.1.0->ipywidgets<9,>=7.6.0->ipycanvas) (0.2.3)\n"
     ]
    },
    {
     "name": "stderr",
     "output_type": "stream",
     "text": [
      "\n",
      "[notice] A new release of pip is available: 25.1 -> 25.1.1\n",
      "[notice] To update, run: python.exe -m pip install --upgrade pip\n"
     ]
    }
   ],
   "execution_count": 3
  },
  {
   "metadata": {},
   "cell_type": "markdown",
   "source": "Zunächst werden die Anfangspunkte abgefragt:",
   "id": "91296f38f92a38d6"
  },
  {
   "metadata": {},
   "cell_type": "code",
   "source": [
    "x_0 = int(input(\"x-Wert des ersten Punktes: \"))\n",
    "y_0 = int(input(\"y-Wert des ersten Punktes: \"))\n",
    "x_1 = int(input(\"x-Wert des zweiten Punktes: \"))\n",
    "y_1 = int(input(\"y-Wert des zweiten Punktes: \"))\n",
    "\n",
    "assert x_1 > x_0\n",
    "assert y_1 > y_0\n",
    "\n",
    "print(f\"Punkte: P1({x_0}|{y_0}) und  P2({x_1}|{y_1})\")"
   ],
   "id": "154894b0410f7236",
   "outputs": [],
   "execution_count": null
  },
  {
   "metadata": {},
   "cell_type": "markdown",
   "source": "Nun werden der initiale Fehler sowie die hierfür und auch später relevanten Differenzen der x- und y-Werte bestimmt:",
   "id": "e9a244620ad735d6"
  },
  {
   "metadata": {},
   "cell_type": "code",
   "source": [
    "d_x = x_1 - x_0 # Die Differenz der x-Werte wird errechnet, da dieser Wert in späteren Berechnungen benötigt wird.\n",
    "d_y = y_1 - y_0 # Die Differenz der y-Werte wird errechnet, da dieser Wert in späteren Berechnungen benötigt wird.\n",
    "\n",
    "assert d_y <= d_x\n",
    "\n",
    "fehler = 2*d_y-d_x # Initialisierung der Entscheidungsvariable d0, hier bezeichnet als Fehler"
   ],
   "id": "ceb8739507e15b44",
   "outputs": [],
   "execution_count": null
  },
  {
   "metadata": {},
   "cell_type": "markdown",
   "source": [
    "Es folgt die Schleife, in welcher für alle x zwischen x_0 und x_1 der korrespondierende y-Wert, welcher die Linie am besten beschreibt, errechnet wird. \n",
    "In diesem Beispiel werden die Punkte als Tupel in eine Liste gespeichert, um sie später zu visualisieren."
   ],
   "id": "567c20e7a2cbbbe6"
  },
  {
   "metadata": {},
   "cell_type": "code",
   "source": [
    "punkte = []\n",
    "\n",
    "x = x_0\n",
    "y = y_0\n",
    "\n",
    "punkte.append((x,y))\n",
    "\n",
    "while x < x_1:\n",
    "    x+=1\n",
    "    if fehler < 0:\n",
    "        fehler += 2*d_y\n",
    "    else:\n",
    "        y += 1\n",
    "        fehler += 2*(d_y-d_x)\n",
    "    punkte.append((x,y))\n",
    "\n",
    "print(punkte)"
   ],
   "id": "10a306547824fc3e",
   "outputs": [],
   "execution_count": null
  },
  {
   "metadata": {},
   "cell_type": "markdown",
   "source": "Zur Probe können nun die errechneten Punkte mithilfe von IPyCanvas dargestellt werden:",
   "id": "41ed532941cd5748"
  },
  {
   "metadata": {},
   "cell_type": "code",
   "outputs": [],
   "execution_count": null,
   "source": [
    "\n",
    "from util import visualisations\n",
    "\n",
    "util.zeichne_pixel(punkte)"
   ],
   "id": "489fb72ce9d4430c"
  },
  {
   "metadata": {},
   "cell_type": "markdown",
   "source": [
    "## Oktant 2\n",
    "### dy > dx | m > 1"
   ],
   "id": "670c3e4ecd034724"
  },
  {
   "metadata": {},
   "cell_type": "markdown",
   "source": "Zunächst werden die Anfangspunkte abgefragt:",
   "id": "8a239274d38b9076"
  },
  {
   "metadata": {},
   "cell_type": "code",
   "source": [
    "x_0 = int(input(\"x-Wert des ersten Punktes: \"))\n",
    "y_0 = int(input(\"y-Wert des ersten Punktes: \"))\n",
    "x_1 = int(input(\"x-Wert des zweiten Punktes: \"))\n",
    "y_1 = int(input(\"y-Wert des zweiten Punktes: \"))\n",
    "\n",
    "assert x_1 > x_0\n",
    "assert y_1 > y_0\n",
    "\n",
    "print(f\"Punkte: P1({x_0}|{y_0}) und  P2({x_1}|{y_1})\")"
   ],
   "id": "10542d34516acc8f",
   "outputs": [],
   "execution_count": null
  },
  {
   "metadata": {},
   "cell_type": "markdown",
   "source": "Nun werden der initiale Fehler sowie die hierfür und auch später relevanten Differenzen der x- und y-Werte bestimmt:",
   "id": "c15a1108958b65fa"
  },
  {
   "metadata": {},
   "cell_type": "code",
   "source": [
    "d_x = x_1 - x_0 # Die Differenz der x-Werte wird errechnet, da dieser Wert in späteren Berechnungen benötigt wird.\n",
    "d_y = y_1 - y_0 # Die Differenz der y-Werte wird errechnet, da dieser Wert in späteren Berechnungen benötigt wird.\n",
    "\n",
    "assert d_y > d_x\n",
    "\n",
    "d_x, d_y = d_y, d_x # Rollen von x und y werden vertauscht -> grundlegender Prozess bleibt gleich, entspricht jedoch nun einer Spiegelung an f(x)=x\n",
    "\n",
    "fehler = 2*d_y-d_x # Initialisierung der Entscheidungsvariable d0, hier bezeichnet als Fehler"
   ],
   "id": "13685ce229560966",
   "outputs": [],
   "execution_count": null
  },
  {
   "metadata": {},
   "cell_type": "markdown",
   "source": [
    "Es folgt die Schleife, in welcher für alle x zwischen x_0 und x_1 der korrespondierende y-Wert, welcher die Linie am besten beschreibt, errechnet wird.\n",
    "In diesem Beispiel werden die Punkte als Tupel in eine Liste gespeichert, um sie später zu visualisieren."
   ],
   "id": "77e0ef55d0a8b2e5"
  },
  {
   "metadata": {},
   "cell_type": "code",
   "source": [
    "punkte = []\n",
    "\n",
    "x = x_0\n",
    "y = y_0\n",
    "\n",
    "punkte.append((x,y))\n",
    "\n",
    "while y < y_1:\n",
    "    y+=1\n",
    "    if fehler < 0:\n",
    "        fehler += 2*d_y\n",
    "    else:\n",
    "        x += 1\n",
    "        fehler += 2*(d_y-d_x)\n",
    "    punkte.append((x,y))\n",
    "\n",
    "print(punkte)"
   ],
   "id": "fad94b0a89fdddd1",
   "outputs": [],
   "execution_count": null
  },
  {
   "metadata": {},
   "cell_type": "markdown",
   "source": "Zur Probe können nun die errechneten Punkte mithilfe von IPyCanvas dargestellt werden:",
   "id": "8e44137e94738c0c"
  },
  {
   "metadata": {
    "ExecuteTime": {
     "end_time": "2025-08-10T10:06:08.074016Z",
     "start_time": "2025-08-10T10:06:08.069599Z"
    }
   },
   "cell_type": "code",
   "source": [
    "import util.visualisations as util\n",
    "\n",
    "util.zeichne_pixel(punkte)"
   ],
   "id": "e5bf2543caa66ae1",
   "outputs": [
    {
     "name": "stdout",
     "output_type": "stream",
     "text": [
      "test\n"
     ]
    }
   ],
   "execution_count": 3
  },
  {
   "metadata": {},
   "cell_type": "markdown",
   "source": [
    "## Allgemeine Form\n",
    "### anwendbar auf alle Oktanten"
   ],
   "id": "8554e95fe3990a69"
  },
  {
   "metadata": {},
   "cell_type": "code",
   "outputs": [],
   "execution_count": null,
   "source": [
    "x_0 = int(input(\"x-Wert des ersten Punktes: \"))\n",
    "y_0 = int(input(\"y-Wert des ersten Punktes: \"))\n",
    "x_1 = int(input(\"x-Wert des zweiten Punktes: \"))\n",
    "y_1 = int(input(\"y-Wert des zweiten Punktes: \"))\n",
    "\n",
    "if x_0 > x_1:\n",
    "        x_0, x_1 = x_1, x_0 # x_0 stets kleiner x_1\n",
    "        y_0, y_1 = y_1, y_0\n",
    "\n",
    "d_x = abs(x_1 - x_0)\n",
    "d_y = abs(y_1 - y_0)"
   ],
   "id": "27fa52635ca545d3"
  },
  {
   "metadata": {},
   "cell_type": "markdown",
   "source": "Anschließend wird die entsprechend m ? 1 unterschieden. Im Folgenden wird je nach Oktant eine schnelle Richtung f_dir und eine langsame Richtung s_dir bestimmt, das anschließende Vorgehen beleibt jedoch grundlegend gleich.",
   "id": "3c6a86a3a9e13efc"
  },
  {
   "metadata": {},
   "cell_type": "code",
   "outputs": [],
   "execution_count": null,
   "source": [
    "if d_x >= d_y: # 0 <= |m| <= 1\n",
    "    f_dir = x_0\n",
    "    s_dir = y_0\n",
    "    d_n = 2*d_y - d_x\n",
    "\n",
    "    result = [(f_dir, s_dir)]\n",
    "    step = 1 if y_0 < y_1 else -1 # Berücksichtigung negativer Anstiege\n",
    "\n",
    "    while f_dir < x_1:\n",
    "        f_dir += 1\n",
    "        if d_n < 0:\n",
    "            d_n += 2 * d_y\n",
    "        else:\n",
    "            s_dir += step\n",
    "            d_n += 2 * (d_y - d_x)\n",
    "        result.append((f_dir, s_dir))\n",
    "    print(result)\n",
    "\n",
    "else: # 1 < m\n",
    "    f_dir = y_0\n",
    "    s_dir = x_0\n",
    "\n",
    "    d_x, d_y = d_y, d_x\n",
    "\n",
    "    d_n = 2 * d_y - d_x\n",
    "\n",
    "\n",
    "    result = [(s_dir, f_dir)] # geändertes Format (siehe Zeile 6) --> Punkte bleiben x/y-Paare, f_dir und s_dir entsprechen jetzt y und x respektive\n",
    "    step = 1 if y_0 < y_1 else -1 # Differenzierung je nach Vorzeichen des Anstieges\n",
    "\n",
    "    while f_dir != y_1: # leicht modifizierte Schleifenbedingung, um positiven und negativen Anstieg abzudecken\n",
    "        f_dir += step # Differenzierung je nach Vorzeichen des Anstieges\n",
    "        if d_n < 0:\n",
    "            d_n += 2 * d_y\n",
    "        else:\n",
    "            s_dir += 1 # Addition, da x_0 stets kleiner x_1\n",
    "            d_n += 2 * (d_y - d_x)\n",
    "        result.append((s_dir, f_dir))\n",
    "\n",
    "    print(result)"
   ],
   "id": "d35a87d8f8324667"
  },
  {
   "metadata": {},
   "cell_type": "code",
   "outputs": [],
   "execution_count": null,
   "source": [
    "import util.visualisations\n",
    "\n",
    "util.zeichne_pixel(punkte)"
   ],
   "id": "f3774734b8f4c378"
  },
  {
   "metadata": {},
   "cell_type": "markdown",
   "source": "Der dargestellte Algorithmus findet sich in der Datei algorithms.py. Er deckt alle Möglichkeiten eines Anstieges einer Geraden zwischen zwei Punkten ab:",
   "id": "9da98405a4afca2e"
  },
  {
   "metadata": {},
   "cell_type": "code",
   "outputs": [],
   "execution_count": null,
   "source": [
    "import util.visualisations\n",
    "from algorithms import bresenham\n",
    "ax_0, ay_0, ax_1, ay_1 = 0, 0, 20, 10\n",
    "bx_0, by_0, bx_1, by_1 = 0, 0, 20, 40\n",
    "punkte = []\n",
    "punkte.extend(bresenham(ax_0, ay_0, ax_1, ay_1))\n",
    "punkte.extend(bresenham(ax_0, ay_0, -1 * ax_1, ay_1))\n",
    "punkte.extend(bresenham(ax_0, ay_0, ax_1, -1 * ay_1))\n",
    "punkte.extend(bresenham(ax_0, ay_0, -1 * ax_1, -1 * ay_1))\n",
    "\n",
    "punkte.extend(bresenham(bx_0, by_0, bx_1, by_1))\n",
    "punkte.extend(bresenham(bx_0, by_0, -1 * bx_1, by_1))\n",
    "punkte.extend(bresenham(bx_0, by_0, bx_1, -1 * by_1))\n",
    "punkte.extend(bresenham(bx_0, by_0, -1 * bx_1, -1 * by_1))\n",
    "\n",
    "util.plot_points(punkte)\n"
   ],
   "id": "35a4d05a8949d743"
  }
 ],
 "metadata": {
  "kernelspec": {
   "display_name": "Python 3",
   "language": "python",
   "name": "python3"
  },
  "language_info": {
   "codemirror_mode": {
    "name": "ipython",
    "version": 2
   },
   "file_extension": ".py",
   "mimetype": "text/x-python",
   "name": "python",
   "nbconvert_exporter": "python",
   "pygments_lexer": "ipython2",
   "version": "2.7.6"
  }
 },
 "nbformat": 4,
 "nbformat_minor": 5
}
