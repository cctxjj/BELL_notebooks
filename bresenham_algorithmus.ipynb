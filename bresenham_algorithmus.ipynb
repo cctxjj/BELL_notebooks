{
 "cells": [
  {
   "metadata": {},
   "cell_type": "markdown",
   "source": [
    "# Bresenham Algorithmus\n",
    "Der Bresenham Algorithmus ist ein grundlegendes Verfahren mit dem Ziel, eine gerade Linie zwischen zwei gegebenen Punkten zu zeichnen bzw. die hierfür zu füllenden Pixel zu errechnen. Im Folgenden soll die theoretische Grundlage praktisch umgesetzt werden. Hierfür wird zunächst die simpelste Variante, eine Gerade mit Anstieg zwischen 0 und 45 Grad, betrachtet"
   ],
   "id": "882b13efc6f375e0"
  },
  {
   "metadata": {},
   "cell_type": "markdown",
   "source": [
    "## Variante 1\n",
    "### 0° <= tan(m) <= 45°"
   ],
   "id": "51aea8c6d639a1f4"
  },
  {
   "metadata": {},
   "cell_type": "markdown",
   "source": "Zunächst werden die Anfangspunkte abgefragt:",
   "id": "91296f38f92a38d6"
  },
  {
   "metadata": {},
   "cell_type": "code",
   "source": [
    "x_0 = int(input(\"x-Wert des ersten Punktes: \"))\n",
    "y_0 = int(input(\"y-Wert des ersten Punktes: \"))\n",
    "x_1 = int(input(\"x-Wert des zweiten Punktes: \"))\n",
    "y_1 = int(input(\"y-Wert des zweiten Punktes: \"))\n",
    "\n",
    "assert x_1 > x_0 and y_1 > y_0\n",
    "\n",
    "print(f\"Punkte: P1({x_0}|{y_0}) und  P2({x_1}|{y_1})\")"
   ],
   "id": "154894b0410f7236",
   "outputs": [],
   "execution_count": null
  },
  {
   "metadata": {},
   "cell_type": "markdown",
   "source": "Nun wird der initiale Fehler sowie die hierfür und auch später relevanten Differenzen der x- und y-Werte bestimmt:",
   "id": "e9a244620ad735d6"
  },
  {
   "metadata": {},
   "cell_type": "code",
   "source": [
    "d_x = x_1 - x_0 # Differenz der x-Werte wird errechnet, da dieser Wert in späteren Berechnungen benötigt wird.\n",
    "d_y = y_1 - y_0 # Differenz der y-Werte wird errechnet, da dieser Wert in späteren Berechnungen benötigt wird.\n",
    "\n",
    "assert d_y/d_x <=1\n",
    "\n",
    "fehler = 2*d_y-d_x"
   ],
   "id": "ceb8739507e15b44",
   "outputs": [],
   "execution_count": null
  },
  {
   "metadata": {},
   "cell_type": "markdown",
   "source": [
    "Es folgt die Schleife, in welcher für alle x zwischen x_0 und x_1 der korrespondierende y-Wert, welcher die Linie am besten beschreibt, errechnet wird. \n",
    "In diesem Beispiel werden die Punkte als Tupel in eine Liste gespeichert, um sie später zu visualisieren."
   ],
   "id": "567c20e7a2cbbbe6"
  },
  {
   "metadata": {},
   "cell_type": "code",
   "source": [
    "punkte = []\n",
    "\n",
    "x = x_0\n",
    "y = y_0\n",
    "\n",
    "punkte.append((x,y))\n",
    "\n",
    "while x < x_1:\n",
    "    x+=1\n",
    "    if fehler < 0:\n",
    "        fehler += 2*d_y\n",
    "    else:\n",
    "        y += 1\n",
    "        fehler += 2*(d_y-d_x)\n",
    "    punkte.append((x,y))"
   ],
   "id": "10a306547824fc3e",
   "outputs": [],
   "execution_count": null
  },
  {
   "metadata": {},
   "cell_type": "markdown",
   "source": "Zur Probe können nun die errechneten Punkte mithilfe von IPyCanvas dargestellt werden:",
   "id": "41ed532941cd5748"
  },
  {
   "metadata": {},
   "cell_type": "code",
   "source": [
    "from ipycanvas import Canvas\n",
    "\n",
    "canvas = Canvas(width=d_x*10, height=d_y*10) # Initialisierung des Canvas-Objektes\n",
    "canvas.fill_style = \"black\"\n",
    "for punkt in punkte:\n",
    "    canvas.fill_rect((punkt[0]-x_0)*10, 190-(punkt[1]-y_0)*10, 10, 10) # Darstellung; Visualisierung setzt untere linke Ecke gleich Punkt P1(x_0, y_0)\n",
    "\n",
    "display(canvas)"
   ],
   "id": "c0351b1850198fb",
   "outputs": [],
   "execution_count": null
  }
 ],
 "metadata": {
  "kernelspec": {
   "display_name": "Python 3",
   "language": "python",
   "name": "python3"
  },
  "language_info": {
   "codemirror_mode": {
    "name": "ipython",
    "version": 2
   },
   "file_extension": ".py",
   "mimetype": "text/x-python",
   "name": "python",
   "nbconvert_exporter": "python",
   "pygments_lexer": "ipython2",
   "version": "2.7.6"
  }
 },
 "nbformat": 4,
 "nbformat_minor": 5
}
