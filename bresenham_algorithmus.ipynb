{
 "cells": [
  {
   "metadata": {},
   "cell_type": "markdown",
   "source": [
    "# Bresenham Algorithmus\n",
    "Der Bresenham Algorithmus ist ein grundlegendes Verfahren mit dem Ziel, eine gerade Linie zwischen zwei gegebenen Punkten zu zeichnen bzw. die hierfür zu füllenden Pixel zu errechnen. Im Folgenden soll die theoretische Grundlage praktisch umgesetzt werden. Hierfür wird zunächst die simpelste Variante, eine Gerade mit Anstieg zwischen 0 und 45 Grad, betrachtet"
   ],
   "id": "882b13efc6f375e0"
  },
  {
   "metadata": {},
   "cell_type": "markdown",
   "source": [
    "## Variante 1\n",
    "### 0° <= arctan(m) <= 45°"
   ],
   "id": "51aea8c6d639a1f4"
  },
  {
   "metadata": {},
   "cell_type": "code",
   "source": "! pip install ipycanvas",
   "id": "f1469b01213257b9",
   "outputs": [],
   "execution_count": null
  },
  {
   "metadata": {},
   "cell_type": "markdown",
   "source": "Zunächst werden die Anfangspunkte abgefragt:",
   "id": "91296f38f92a38d6"
  },
  {
   "metadata": {},
   "cell_type": "code",
   "source": [
    "x_0 = int(input(\"x-Wert des ersten Punktes: \"))\n",
    "y_0 = int(input(\"y-Wert des ersten Punktes: \"))\n",
    "x_1 = int(input(\"x-Wert des zweiten Punktes: \"))\n",
    "y_1 = int(input(\"y-Wert des zweiten Punktes: \"))\n",
    "\n",
    "assert x_1 > x_0\n",
    "assert y_1 > y_0\n",
    "\n",
    "print(f\"Punkte: P1({x_0}|{y_0}) und  P2({x_1}|{y_1})\")"
   ],
   "id": "154894b0410f7236",
   "outputs": [],
   "execution_count": null
  },
  {
   "metadata": {},
   "cell_type": "markdown",
   "source": "Nun werden der initiale Fehler sowie die hierfür und auch später relevanten Differenzen der x- und y-Werte bestimmt:",
   "id": "e9a244620ad735d6"
  },
  {
   "metadata": {},
   "cell_type": "code",
   "source": [
    "d_x = x_1 - x_0 # Die Differenz der x-Werte wird errechnet, da dieser Wert in späteren Berechnungen benötigt wird.\n",
    "d_y = y_1 - y_0 # Die Differenz der y-Werte wird errechnet, da dieser Wert in späteren Berechnungen benötigt wird.\n",
    "\n",
    "assert d_y/d_x <= 1\n",
    "\n",
    "fehler = 2*d_y-d_x # Initialisierung der Entscheidungsvariable d0, hier bezeichnet als Fehler"
   ],
   "id": "ceb8739507e15b44",
   "outputs": [],
   "execution_count": null
  },
  {
   "metadata": {},
   "cell_type": "markdown",
   "source": [
    "Es folgt die Schleife, in welcher für alle x zwischen x_0 und x_1 der korrespondierende y-Wert, welcher die Linie am besten beschreibt, errechnet wird. \n",
    "In diesem Beispiel werden die Punkte als Tupel in eine Liste gespeichert, um sie später zu visualisieren."
   ],
   "id": "567c20e7a2cbbbe6"
  },
  {
   "metadata": {},
   "cell_type": "code",
   "source": [
    "punkte = []\n",
    "\n",
    "x = x_0\n",
    "y = y_0\n",
    "\n",
    "punkte.append((x,y))\n",
    "\n",
    "while x < x_1:\n",
    "    x+=1\n",
    "    if fehler < 0:\n",
    "        fehler += 2*d_y\n",
    "    else:\n",
    "        y += 1\n",
    "        fehler += 2*(d_y-d_x)\n",
    "    punkte.append((x,y))\n",
    "\n",
    "print(punkte)"
   ],
   "id": "10a306547824fc3e",
   "outputs": [],
   "execution_count": null
  },
  {
   "metadata": {},
   "cell_type": "markdown",
   "source": "Zur Probe können nun die errechneten Punkte mithilfe von IPyCanvas dargestellt werden:",
   "id": "41ed532941cd5748"
  },
  {
   "metadata": {},
   "cell_type": "code",
   "source": [
    "import util\n",
    "\n",
    "util.zeichne_pixel(punkte)"
   ],
   "id": "c0351b1850198fb",
   "outputs": [],
   "execution_count": null
  },
  {
   "metadata": {},
   "cell_type": "markdown",
   "source": [
    "## Variante 2\n",
    "### 45° <= arctan(m) <= 90°"
   ],
   "id": "670c3e4ecd034724"
  },
  {
   "metadata": {},
   "cell_type": "markdown",
   "source": "Zunächst werden die Anfangspunkte abgefragt:",
   "id": "8a239274d38b9076"
  },
  {
   "metadata": {},
   "cell_type": "code",
   "source": [
    "x_0 = int(input(\"x-Wert des ersten Punktes: \"))\n",
    "y_0 = int(input(\"y-Wert des ersten Punktes: \"))\n",
    "x_1 = int(input(\"x-Wert des zweiten Punktes: \"))\n",
    "y_1 = int(input(\"y-Wert des zweiten Punktes: \"))\n",
    "\n",
    "assert x_1 > x_0\n",
    "assert y_1 > y_0\n",
    "\n",
    "print(f\"Punkte: P1({x_0}|{y_0}) und  P2({x_1}|{y_1})\")"
   ],
   "id": "10542d34516acc8f",
   "outputs": [],
   "execution_count": null
  },
  {
   "metadata": {},
   "cell_type": "markdown",
   "source": "Nun werden der initiale Fehler sowie die hierfür und auch später relevanten Differenzen der x- und y-Werte bestimmt:",
   "id": "c15a1108958b65fa"
  },
  {
   "metadata": {},
   "cell_type": "code",
   "source": [
    "d_x = x_1 - x_0 # Die Differenz der x-Werte wird errechnet, da dieser Wert in späteren Berechnungen benötigt wird.\n",
    "d_y = y_1 - y_0 # Die Differenz der y-Werte wird errechnet, da dieser Wert in späteren Berechnungen benötigt wird.\n",
    "\n",
    "assert d_y/d_x >= 1\n",
    "\n",
    "d_x, d_y = d_y, d_x # Rollen von x und y werden vertauscht -> grundlegender Prozess bleibt gleich, entspricht jedoch nun einer Spiegelung an f(x)=x\n",
    "\n",
    "fehler = 2*d_y-d_x # Initialisierung der Entscheidungsvariable d0, hier bezeichnet als Fehler"
   ],
   "id": "13685ce229560966",
   "outputs": [],
   "execution_count": null
  },
  {
   "metadata": {},
   "cell_type": "markdown",
   "source": [
    "Es folgt die Schleife, in welcher für alle x zwischen x_0 und x_1 der korrespondierende y-Wert, welcher die Linie am besten beschreibt, errechnet wird.\n",
    "In diesem Beispiel werden die Punkte als Tupel in eine Liste gespeichert, um sie später zu visualisieren."
   ],
   "id": "77e0ef55d0a8b2e5"
  },
  {
   "metadata": {},
   "cell_type": "code",
   "source": [
    "punkte = []\n",
    "\n",
    "x = x_0\n",
    "y = y_0\n",
    "\n",
    "punkte.append((x,y))\n",
    "\n",
    "while y < y_1:\n",
    "    y+=1\n",
    "    if fehler < 0:\n",
    "        fehler += 2*d_y\n",
    "    else:\n",
    "        x += 1\n",
    "        fehler += 2*(d_y-d_x)\n",
    "    punkte.append((x,y))\n",
    "\n",
    "print(punkte)"
   ],
   "id": "fad94b0a89fdddd1",
   "outputs": [],
   "execution_count": null
  },
  {
   "metadata": {},
   "cell_type": "markdown",
   "source": "Zur Probe können nun die errechneten Punkte mithilfe von IPyCanvas dargestellt werden:",
   "id": "8e44137e94738c0c"
  },
  {
   "metadata": {},
   "cell_type": "code",
   "source": [
    "import util\n",
    "\n",
    "util.zeichne_pixel(punkte)"
   ],
   "id": "8e2851bfa4035687",
   "outputs": [],
   "execution_count": null
  },
  {
   "metadata": {},
   "cell_type": "markdown",
   "source": [
    "## Variante 3\n",
    "### -1 <= m <= 0"
   ],
   "id": "8554e95fe3990a69"
  },
  {
   "metadata": {},
   "cell_type": "markdown",
   "source": "Zunächst werden die Anfangspunkte abgefragt:",
   "id": "ffdf6ad116ad6911"
  },
  {
   "metadata": {},
   "cell_type": "code",
   "source": [
    "x_0 = int(input(\"x-Wert des ersten Punktes: \"))\n",
    "y_0 = int(input(\"y-Wert des ersten Punktes: \"))\n",
    "x_1 = int(input(\"x-Wert des zweiten Punktes: \"))\n",
    "y_1 = int(input(\"y-Wert des zweiten Punktes: \"))\n",
    "\n",
    "assert x_1 > x_0\n",
    "assert y_1 < y_0\n",
    "\n",
    "print(f\"Punkte: P1({x_0}|{y_0}) und  P2({x_1}|{y_1})\")"
   ],
   "id": "60c9ae6284940661",
   "outputs": [],
   "execution_count": null
  },
  {
   "metadata": {},
   "cell_type": "markdown",
   "source": "Nun werden der initiale Fehler sowie die hierfür und auch später relevanten Differenzen der x- und y-Werte bestimmt:",
   "id": "cad2ca62f64246d0"
  },
  {
   "metadata": {},
   "cell_type": "code",
   "source": [
    "d_x = abs(x_1 - x_0) # Die Differenz der x-Werte wird errechnet, da dieser Wert in späteren Berechnungen benötigt wird.\n",
    "d_y = abs(y_1 - y_0) # Die Differenz der y-Werte wird errechnet, da dieser Wert in späteren Berechnungen benötigt wird.\n",
    "\n",
    "assert d_y/d_x >= -1\n",
    "\n",
    "fehler = 2*d_y-d_x # Initialisierung der Entscheidungsvariable d0, hier bezeichnet als Fehler"
   ],
   "id": "def1a77b8dd9e698",
   "outputs": [],
   "execution_count": null
  },
  {
   "metadata": {},
   "cell_type": "markdown",
   "source": [
    "Es folgt die Schleife, in welcher für alle x zwischen x_0 und x_1 der korrespondierende y-Wert, welcher die Linie am besten beschreibt, errechnet wird.\n",
    "In diesem Beispiel werden die Punkte als Tupel in eine Liste gespeichert, um sie später zu visualisieren."
   ],
   "id": "bbbeb33b7bde5e56"
  },
  {
   "metadata": {},
   "cell_type": "code",
   "source": [
    "punkte = []\n",
    "\n",
    "x = x_0\n",
    "y = y_0\n",
    "\n",
    "punkte.append((x,y))\n",
    "\n",
    "while x < x_1:\n",
    "    x+=1\n",
    "    if fehler < 0:\n",
    "        fehler += 2*d_y\n",
    "    else:\n",
    "        y -= 1 # war eigentlich woanders (oben) maybe anpassen #TODO\n",
    "        fehler += 2*(d_y-d_x)\n",
    "    punkte.append((x,y))\n",
    "\n",
    "print(punkte)"
   ],
   "id": "3c4a4d45f5f3464d",
   "outputs": [],
   "execution_count": null
  },
  {
   "metadata": {},
   "cell_type": "markdown",
   "source": "Zur Probe können nun die errechneten Punkte mithilfe von IPyCanvas dargestellt werden:",
   "id": "e76d0f35131faeac"
  },
  {
   "metadata": {},
   "cell_type": "code",
   "source": [
    "import util\n",
    "\n",
    "util.zeichne_pixel(punkte)\n",
    "# Todo: kompletten Algorithmus implementieren"
   ],
   "id": "d30d9b611cbfb793",
   "outputs": [],
   "execution_count": null
  },
  {
   "metadata": {},
   "cell_type": "markdown",
   "source": [
    "## Variante 4\n",
    "### Realisierung für alle m"
   ],
   "id": "544bc5249a1209ad"
  },
  {
   "metadata": {},
   "cell_type": "markdown",
   "source": "Zunächst werden die Anfangspunkte abgefragt:",
   "id": "d17dc5b2eba5c859"
  },
  {
   "metadata": {},
   "cell_type": "code",
   "source": [
    "x_0 = int(input(\"x-Wert des ersten Punktes: \"))\n",
    "y_0 = int(input(\"y-Wert des ersten Punktes: \"))\n",
    "x_1 = int(input(\"x-Wert des zweiten Punktes: \"))\n",
    "y_1 = int(input(\"y-Wert des zweiten Punktes: \"))\n",
    "\n",
    "print(f\"Punkte: P1({x_0}|{y_0}) und  P2({x_1}|{y_1})\")"
   ],
   "id": "e928ce2a57617c89",
   "outputs": [],
   "execution_count": null
  },
  {
   "metadata": {},
   "cell_type": "markdown",
   "source": "Nun werden der initiale Fehler sowie die hierfür und auch später relevanten Differenzen der x- und y-Werte bestimmt. Zuvor findet eine Prüfung der Oktanten sowie ggf. eine Anpassung der Variablen statt:",
   "id": "ea4e6a9a693692a3"
  },
  {
   "metadata": {},
   "cell_type": "code",
   "source": [
    "if x_1 < x_0:\n",
    "    x_0, x_1 = x_1, x_0\n",
    "    y_0, y_1 = y_1, y_0\n",
    "#elif x_1 == x_0:\n",
    "#    raise ValueError(\"Punkte dürfen nicht übereinander liegen\")\n",
    "#todo siehe oben\n",
    "\n",
    "d_x = abs(x_1 - x_0) # Die Differenz der x-Werte wird errechnet, da dieser Wert in späteren Berechnungen benötigt wird.\n",
    "d_y = abs(y_1 - y_0) # Die Differenz der y-Werte wird errechnet, da dieser Wert in späteren Berechnungen benötigt wird.\n",
    "\n",
    "fehler = 2*d_y-d_x # Initialisierung der Entscheidungsvariable d0, hier bezeichnet als Fehler"
   ],
   "id": "9f56125c2284e6cc",
   "outputs": [],
   "execution_count": null
  },
  {
   "metadata": {},
   "cell_type": "markdown",
   "source": [
    "Es folgt die Schleife, in welcher für alle x zwischen x_0 und x_1 der korrespondierende y-Wert, welcher die Linie am besten beschreibt, errechnet wird.\n",
    "In diesem Beispiel werden die Punkte als Tupel in eine Liste gespeichert, um sie später zu visualisieren."
   ],
   "id": "ca24e7a9a043edf3"
  },
  {
   "metadata": {},
   "cell_type": "code",
   "source": [
    "punkte = []\n",
    "\n",
    "is_negative = (y_1-y_0)/(x_1-x_0) < 0\n",
    "\n",
    "iteration_var = x_0\n",
    "adjusted_var = y_0\n",
    "end = x_1\n",
    "\n",
    "flipped = False\n",
    "\n",
    "if abs(d_y/d_x) >= 1:\n",
    "    iteration_var, langsame_r, end = y_0, x_0, y_1\n",
    "    x, y = adjusted_var, iteration_var\n",
    "    d_x, d_y = d_y, d_x # Tausch der Rollen von x- und y-Werten\n",
    "    fehler = 2*d_y-d_x # Anpassung Fehler\n",
    "    flipped = True\n",
    "\n",
    "if flipped:\n",
    "    punkte.append((adjusted_var, iteration_var))\n",
    "else:\n",
    "    punkte.append((iteration_var, adjusted_var))\n",
    "\n",
    "while iteration_var < end:\n",
    "    iteration_var+=1\n",
    "    if fehler < 0:\n",
    "        if is_negative:\n",
    "            adjusted_var -= 1\n",
    "        fehler += 2*d_y\n",
    "    else:\n",
    "        if not is_negative:\n",
    "            adjusted_var += 1\n",
    "        fehler += 2*(d_y-d_x)\n",
    "    if flipped:\n",
    "        punkte.append((adjusted_var, iteration_var))\n",
    "    else:\n",
    "        punkte.append((iteration_var, adjusted_var))\n",
    "\n",
    "print(punkte)"
   ],
   "id": "e2dc6d758d8182b9",
   "outputs": [],
   "execution_count": null
  },
  {
   "metadata": {},
   "cell_type": "markdown",
   "source": "Zur Probe können nun die errechneten Punkte mithilfe von IPyCanvas dargestellt werden:",
   "id": "67a21ce04414c001"
  },
  {
   "metadata": {},
   "cell_type": "code",
   "source": [
    "import util\n",
    "\n",
    "util.zeichne_pixel(punkte)\n",
    "# Todo: kompletten Algorithmus implementieren"
   ],
   "id": "9361c0536f5888ec",
   "outputs": [],
   "execution_count": null
  },
  {
   "metadata": {
    "ExecuteTime": {
     "end_time": "2025-05-04T17:29:12.677316Z",
     "start_time": "2025-05-04T17:29:12.476270Z"
    }
   },
   "cell_type": "code",
   "source": [
    "import util\n",
    "ax_0, ay_0, ax_1, ay_1 = 0, 0, 20, 10\n",
    "bx_0, by_0, bx_1, by_1 = 0, 0, 20, 30\n",
    "punkte = []\n",
    "punkte.extend(util.bresenham(ax_0, ay_0, ax_1, ay_1))\n",
    "punkte.extend(util.bresenham(ax_0, ay_0, -1*ax_1, ay_1))\n",
    "punkte.extend(util.bresenham(ax_0, ay_0, ax_1, -1*ay_1))\n",
    "punkte.extend(util.bresenham(ax_0, ay_0, -1*ax_1, -1*ay_1))\n",
    "\n",
    "punkte.extend(util.bresenham(bx_0, by_0, bx_1, by_1))\n",
    "punkte.extend(util.bresenham(bx_0, by_0, -1*bx_1, by_1))\n",
    "punkte.extend(util.bresenham(bx_0, by_0, bx_1, -1*by_1))\n",
    "punkte.extend(util.bresenham(bx_0, by_0, -1*bx_1, -1*by_1))\n",
    "\n",
    "util.plot_points(punkte)\n"
   ],
   "id": "81ae0afe5f7c84c2",
   "outputs": [
    {
     "data": {
      "text/plain": [
       "<Figure size 640x480 with 1 Axes>"
      ],
      "image/png": "[encoded data removed]"
     },
     "metadata": {},
     "output_type": "display_data"
    }
   ],
   "execution_count": 4
  }
 ],
 "metadata": {
  "kernelspec": {
   "display_name": "Python 3",
   "language": "python",
   "name": "python3"
  },
  "language_info": {
   "codemirror_mode": {
    "name": "ipython",
    "version": 2
   },
   "file_extension": ".py",
   "mimetype": "text/x-python",
   "name": "python",
   "nbconvert_exporter": "python",
   "pygments_lexer": "ipython2",
   "version": "2.7.6"
  }
 },
 "nbformat": 4,
 "nbformat_minor": 5
}
